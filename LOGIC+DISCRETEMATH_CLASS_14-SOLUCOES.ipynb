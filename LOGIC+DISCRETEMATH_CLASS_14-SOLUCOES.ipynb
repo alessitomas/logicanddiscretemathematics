{
  "nbformat": 4,
  "nbformat_minor": 0,
  "metadata": {
    "colab": {
      "provenance": [],
      "include_colab_link": true
    },
    "kernelspec": {
      "name": "python3",
      "display_name": "Python 3"
    },
    "language_info": {
      "name": "python"
    }
  },
  "cells": [
    {
      "cell_type": "markdown",
      "metadata": {
        "id": "view-in-github",
        "colab_type": "text"
      },
      "source": [
        "<a href=\"https://colab.research.google.com/github/alessitomas/logicanddiscretemathematics/blob/main/LOGIC%2BDISCRETEMATH_CLASS_14-SOLUCOES.ipynb\" target=\"_parent\"><img src=\"https://colab.research.google.com/assets/colab-badge.svg\" alt=\"Open In Colab\"/></a>"
      ]
    },
    {
      "cell_type": "markdown",
      "source": [
        "<div class=\"alert alert-block alert-info\">\n",
        "\n",
        "#**CLASS 14 - TYPE THEORY - PART IV**\n",
        "**Learning Objectives:**\n",
        "* RECURSIVE TYPES\n",
        "* IMPLEMENTATION OF RECURSIVE TYPES\n"
      ],
      "metadata": {
        "id": "33EEpDW7pOaO"
      }
    },
    {
      "cell_type": "markdown",
      "source": [
        "**RECURSIVE TYPES**\n",
        "\n",
        "In computer programming languages, a recursive data type (also known as a recursively-defined, inductively-defined or inductive data type) is a data type for values that may contain other values of the same type.\n",
        "\n",
        "An important application of recursion in computer science is in defining dynamic data structures such as Lists and Trees. Recursive data structures can dynamically grow to an arbitrarily large size in response to runtime requirements; in contrast, a static array's size requirements must be set at compile time. Sometimes the term \"inductive data type\" is used for algebraic data types which are not necessarily recursive.\n",
        "\n",
        "In type theory, a recursive type has the general form μα.T where the type variable α may appear in the type T and stands for the entire type itself. In type theory, we would say: nat=α+μα.1  where the two arms of the sum type represent the Zero and Succ data constructors. Zero takes no arguments (thus represented by the unit type) and Succ takes another Nat (thus another element of α+μα.1).\n",
        "\n",
        "Lets implement the recursive datatype nat in ML:\n",
        "\n"
      ],
      "metadata": {
        "id": "bR0VEroxclwf"
      }
    },
    {
      "cell_type": "code",
      "source": [
        "!apt-get install smlnj"
      ],
      "metadata": {
        "id": "rE8qcDaoKFQa",
        "colab": {
          "base_uri": "https://localhost:8080/"
        },
        "outputId": "c0da9123-c29a-4adf-8497-7dc1e2572310"
      },
      "execution_count": 1,
      "outputs": [
        {
          "output_type": "stream",
          "name": "stdout",
          "text": [
            "Reading package lists... Done\n",
            "Building dependency tree       \n",
            "Reading state information... Done\n",
            "The following additional packages will be installed:\n",
            "  libsmlnj-smlnj smlnj-runtime\n",
            "Suggested packages:\n",
            "  smlnj-doc\n",
            "The following NEW packages will be installed:\n",
            "  libsmlnj-smlnj smlnj smlnj-runtime\n",
            "0 upgraded, 3 newly installed, 0 to remove and 24 not upgraded.\n",
            "Need to get 6,398 kB of archives.\n",
            "After this operation, 28.0 MB of additional disk space will be used.\n",
            "Get:1 http://archive.ubuntu.com/ubuntu focal/universe amd64 smlnj-runtime amd64 110.79-6 [129 kB]\n",
            "Get:2 http://archive.ubuntu.com/ubuntu focal/universe amd64 smlnj amd64 110.79-6 [5,788 kB]\n",
            "Get:3 http://archive.ubuntu.com/ubuntu focal/universe amd64 libsmlnj-smlnj amd64 110.79-6 [481 kB]\n",
            "Fetched 6,398 kB in 3s (2,025 kB/s)\n",
            "Selecting previously unselected package smlnj-runtime.\n",
            "(Reading database ... 122518 files and directories currently installed.)\n",
            "Preparing to unpack .../smlnj-runtime_110.79-6_amd64.deb ...\n",
            "Unpacking smlnj-runtime (110.79-6) ...\n",
            "Selecting previously unselected package smlnj.\n",
            "Preparing to unpack .../smlnj_110.79-6_amd64.deb ...\n",
            "Unpacking smlnj (110.79-6) ...\n",
            "Selecting previously unselected package libsmlnj-smlnj.\n",
            "Preparing to unpack .../libsmlnj-smlnj_110.79-6_amd64.deb ...\n",
            "Unpacking libsmlnj-smlnj (110.79-6) ...\n",
            "Setting up smlnj-runtime (110.79-6) ...\n",
            "Setting up smlnj (110.79-6) ...\n",
            "Setting up libsmlnj-smlnj (110.79-6) ...\n",
            "Processing triggers for man-db (2.9.1-1) ...\n"
          ]
        }
      ]
    },
    {
      "cell_type": "code",
      "source": [
        "%%writefile nat.sml\n",
        "\n",
        "datatype nat =   Zero\n",
        "               | Succ of nat\n",
        "\n",
        "val zero = Zero\n",
        "val one = Succ(zero)\n",
        "val two = Succ(one)"
      ],
      "metadata": {
        "colab": {
          "base_uri": "https://localhost:8080/"
        },
        "id": "XCYjoa2OKrC3",
        "outputId": "c2a69ebb-c501-44b5-8ed5-b0d58b277838"
      },
      "execution_count": 2,
      "outputs": [
        {
          "output_type": "stream",
          "name": "stdout",
          "text": [
            "Writing nat.sml\n"
          ]
        }
      ]
    },
    {
      "cell_type": "code",
      "source": [
        "#ativação do interpretador ML\n",
        "#para usar o arquivo nat.sml, digite use nat.sml; <enter>\n",
        "\n",
        "!/usr/bin/sml"
      ],
      "metadata": {
        "colab": {
          "base_uri": "https://localhost:8080/"
        },
        "id": "bCFZmPj1K73X",
        "outputId": "c7801209-1132-4c2e-c456-73d4cb4c2696"
      },
      "execution_count": 3,
      "outputs": [
        {
          "output_type": "stream",
          "name": "stdout",
          "text": [
            "Standard ML of New Jersey v110.79 [built: Sat Oct 26 12:27:04 2019]\n",
            "- \n",
            "Interrupt\n",
            "\n",
            "Interrupt\n",
            "\n",
            "Interrupt\n",
            "- /usr/lib/smlnj/bin/sml: Fatal error -- Uncaught exception Io with <unknown> raised at Basis/Implementation/IO/text-io-fn.sml:443.14-443.56\n",
            "\n"
          ]
        }
      ]
    },
    {
      "cell_type": "markdown",
      "source": [
        "You can operate with this new datatype using functions:\n"
      ],
      "metadata": {
        "id": "aS17z3R7f-WI"
      }
    },
    {
      "cell_type": "code",
      "source": [
        "%%writefile nat.sml\n",
        "\n",
        "datatype nat =   Zero\n",
        "               | Succ of nat\n",
        "\n",
        "\n",
        "fun iszero(n : nat) : bool = \n",
        "  case n of\n",
        "            Zero    => true\n",
        "          | Succ(m) => false\n",
        "\n",
        "\n",
        "fun pred(n : nat) : nat = \n",
        "  case n of\n",
        "             Zero => raise Fail \"predecessor on zero\"\n",
        "           | Succ(m) => m\n",
        "\n",
        "\n",
        "fun add(n1:nat, n2:nat) : nat = \n",
        "  case n1 of\n",
        "              Zero => n2\n",
        "              Succ(n_minus_1) => add(n_minus_1, Succ(n2))\n",
        "\n",
        "\n",
        "fun mul(n1:nat, n2:nat) : nat =\n",
        "  case n1 of\n",
        "              Zero => Zero\n",
        "            | Succ(n1MinusOne) => add(n2, mul(n1MinusOne,n2))"
      ],
      "metadata": {
        "id": "i8gas5g7gF36",
        "outputId": "c6291eef-a3b3-4f03-d6f5-b6ac6bb6961e",
        "colab": {
          "base_uri": "https://localhost:8080/"
        }
      },
      "execution_count": 4,
      "outputs": [
        {
          "output_type": "stream",
          "name": "stdout",
          "text": [
            "Overwriting nat.sml\n"
          ]
        }
      ]
    },
    {
      "cell_type": "code",
      "source": [
        "!/usr/bin/sml"
      ],
      "metadata": {
        "id": "gAYHTr48hDGC",
        "colab": {
          "base_uri": "https://localhost:8080/"
        },
        "outputId": "c06573e5-9c7d-49d8-892d-9cf84a8bb991"
      },
      "execution_count": 5,
      "outputs": [
        {
          "output_type": "stream",
          "name": "stdout",
          "text": [
            "Standard ML of New Jersey v110.79 [built: Sat Oct 26 12:27:04 2019]\n",
            "- \n",
            "Interrupt\n",
            "- \n",
            "Interrupt\n"
          ]
        }
      ]
    },
    {
      "cell_type": "markdown",
      "source": [
        "**EXERCISE 1**\n",
        "\n",
        "Define the factorial datatype in a recursive way:\n",
        "\n",
        "0! = 1\n",
        "\n",
        "n! = n*(n-1)!"
      ],
      "metadata": {
        "id": "gVF7a96kfBep"
      }
    },
    {
      "cell_type": "code",
      "source": [
        "%%writefile factorial.sml\n",
        "\n",
        "datatype nat =   Zero\n",
        "               | Succ of nat\n",
        "\n",
        "val one = Succ(Zero)\n",
        "\n",
        "datatype factorial = one \n",
        "                    | Cons of nat * factorial\n",
        "\n"
      ],
      "metadata": {
        "id": "7fuw6peifXKD",
        "outputId": "860e9223-4886-467d-fe24-594de3240f18",
        "colab": {
          "base_uri": "https://localhost:8080/"
        }
      },
      "execution_count": 6,
      "outputs": [
        {
          "output_type": "stream",
          "name": "stdout",
          "text": [
            "Writing factorial.sml\n"
          ]
        }
      ]
    },
    {
      "cell_type": "code",
      "source": [
        "!/usr/bin/sml"
      ],
      "metadata": {
        "id": "5swfa8cDmipU",
        "outputId": "f3a067c7-ff95-4101-fb13-93153d5b3ec9",
        "colab": {
          "base_uri": "https://localhost:8080/"
        }
      },
      "execution_count": null,
      "outputs": [
        {
          "output_type": "stream",
          "name": "stdout",
          "text": [
            "Standard ML of New Jersey v110.79 [built: Sat Oct 26 12:27:04 2019]\n",
            "- use \"factorial.sml\";\n",
            "[opening factorial.sml]\n",
            "datatype nat = Succ of nat | Zero\n",
            "val one = <PPDec.getVal failure>\n",
            "datatype factorial = Cons of nat * factorial | one\n",
            "val it = () : unit\n",
            "- \n",
            "Interrupt\n",
            "\n",
            "Interrupt\n",
            "- \n",
            "Interrupt\n",
            "- "
          ]
        }
      ]
    },
    {
      "cell_type": "markdown",
      "source": [
        "**EXERCISE 2**\n",
        "\n",
        "Define the fibonacci datatype in a recursive way:\n",
        "\n",
        "1,1,2,3,5,8,...\n",
        "\n"
      ],
      "metadata": {
        "id": "muap-KCUfbaf"
      }
    },
    {
      "cell_type": "code",
      "source": [
        "%%writefile fib.sml\n",
        "\n",
        "datatype nat =   Zero\n",
        "               | Succ of nat\n",
        "\n",
        "val one = Succ(Zero)\n",
        "\n",
        "datatype fib = one\n",
        "              | Cons of nat * fib\n",
        "\n"
      ],
      "metadata": {
        "id": "WDIoxa18frJq",
        "outputId": "7917f4d0-c5d8-4254-c85a-541d36946884",
        "colab": {
          "base_uri": "https://localhost:8080/"
        }
      },
      "execution_count": 7,
      "outputs": [
        {
          "output_type": "stream",
          "name": "stdout",
          "text": [
            "Writing fib.sml\n"
          ]
        }
      ]
    },
    {
      "cell_type": "code",
      "source": [
        "!/usr/bin/sml"
      ],
      "metadata": {
        "id": "MdYP6_hlwhhS",
        "outputId": "cb229a9e-027e-4c4e-f5a0-c8a98d8a7acf",
        "colab": {
          "base_uri": "https://localhost:8080/"
        }
      },
      "execution_count": null,
      "outputs": [
        {
          "metadata": {
            "tags": null
          },
          "name": "stdout",
          "output_type": "stream",
          "text": [
            "Standard ML of New Jersey v110.79 [built: Sat Oct 26 12:27:04 2019]\n",
            "- use \"fib.sml\";\n",
            "[opening fib.sml]\n",
            "datatype nat = Succ of nat | Zero\n",
            "val one = <PPDec.getVal failure>\n",
            "datatype fib = Cons of nat * fib | one\n",
            "val it = () : unit\n",
            "- "
          ]
        }
      ]
    },
    {
      "cell_type": "markdown",
      "source": [
        "**RECURSIVE DATATYPE LIST**\n",
        "\n",
        "We can write our own version of lists using datatypes. Suppose we want to define values that act like linked lists of integers. A linked list is either empty, or it has an integer followed by another list containing the rest of the list elements. This leads to a very natural datatype declaration:\n",
        "\n"
      ],
      "metadata": {
        "id": "9y5JwZzlhV6D"
      }
    },
    {
      "cell_type": "code",
      "source": [
        "%%writefile list.sml\n",
        "\n",
        "datatype intlist =  Nil \n",
        "                  | Cons of (int * intlist)\n",
        "\n",
        "val list1 = Nil \t\t            (* the empty list:  []*)\n",
        "val list2 = Cons(1,Nil) \t      (* the list containing just 1:  [1] *)\n",
        "val list3 = Cons(2,Cons(1,Nil)) (* the list [2,1] *)\n",
        "val list4 = Cons(2,list2)       (* also the list [2,1] *)\n",
        "\n",
        "fun length(lst: intlist): int =\n",
        "  case lst of\n",
        "              Nil => 0\n",
        "              Cons(h,t) => 1 + length(t)"
      ],
      "metadata": {
        "id": "p5JnDGphhhPM",
        "colab": {
          "base_uri": "https://localhost:8080/"
        },
        "outputId": "452451f0-c33a-46d3-bc27-8404f78c9d2e"
      },
      "execution_count": 8,
      "outputs": [
        {
          "output_type": "stream",
          "name": "stdout",
          "text": [
            "Writing list.sml\n"
          ]
        }
      ]
    },
    {
      "cell_type": "markdown",
      "source": [
        "**EXERCISE 3**\n",
        "\n",
        "Implement the recursive function addall to sum all numbers of one list L."
      ],
      "metadata": {
        "id": "7BlqvgBCiPHh"
      }
    },
    {
      "cell_type": "code",
      "source": [
        "#IMPLEMENTATION HERE"
      ],
      "metadata": {
        "id": "rC3O3fNoifbh"
      },
      "execution_count": null,
      "outputs": []
    },
    {
      "cell_type": "markdown",
      "source": [
        "**EXERCICIO 4**\n",
        "\n",
        "Implement the recursive function last to retrieve the last element of a list. If such element does not exist, raise an exception."
      ],
      "metadata": {
        "id": "KgDIn3xSitQV"
      }
    },
    {
      "cell_type": "code",
      "source": [
        "#IMPLEMENTATION HERE"
      ],
      "metadata": {
        "id": "OYRifjbRjDMK"
      },
      "execution_count": null,
      "outputs": []
    },
    {
      "cell_type": "markdown",
      "source": [
        "**RECURSIVE DATATYPE TREE**\n",
        "\n",
        "Trees are another very useful data structure, and unlike lists, they are not built into SML. A binary tree is a node containing a value and two children that are trees. A binary tree can also be an empty tree, which we also use to represent the absence of a child node. We can write this down directly as a datatype:"
      ],
      "metadata": {
        "id": "cEnlzmXnjHSL"
      }
    },
    {
      "cell_type": "code",
      "source": [
        "%%writefile tree.sml\n",
        "\n",
        "datatype inttree = Empty \n",
        "                   | Node of { value: int, left: inttree, right: inttree }\n",
        "\n",
        "tree= Node {value = 2, \n",
        "            left = Node {value=1, left = Empty, right = Empty},\n",
        "            right= Node {value=3, left = Empty, right = Empty}}"
      ],
      "metadata": {
        "id": "NZTday3vjTLF",
        "colab": {
          "base_uri": "https://localhost:8080/"
        },
        "outputId": "f307914d-188b-4fee-e634-ef261331be6e"
      },
      "execution_count": 9,
      "outputs": [
        {
          "output_type": "stream",
          "name": "stdout",
          "text": [
            "Writing tree.sml\n"
          ]
        }
      ]
    },
    {
      "cell_type": "code",
      "source": [
        "!/usr/bin/sml"
      ],
      "metadata": {
        "id": "CptXKkHdkHqu"
      },
      "execution_count": null,
      "outputs": []
    },
    {
      "cell_type": "markdown",
      "source": [
        "For search an element x "
      ],
      "metadata": {
        "id": "qkU_efz7kXOz"
      }
    },
    {
      "cell_type": "code",
      "source": [
        "%%writefile tree.sml\n",
        "\n",
        "datatype inttree = Empty \n",
        "                   | Node of { value: int, left: inttree, right: inttree }\n",
        "\n",
        "\n",
        "fun search(t: inttree, x:int): bool =\n",
        "  case t of\n",
        "              Empty => false\n",
        "            | Node {value, left, right} => (value = x) orelse search(left, x)\n",
        "                                                       orelse search(right, x)"
      ],
      "metadata": {
        "id": "LcJL5SEGkcSN",
        "colab": {
          "base_uri": "https://localhost:8080/"
        },
        "outputId": "def440ad-c4ba-4925-f32d-7e1b159b2933"
      },
      "execution_count": 10,
      "outputs": [
        {
          "output_type": "stream",
          "name": "stdout",
          "text": [
            "Overwriting tree.sml\n"
          ]
        }
      ]
    },
    {
      "cell_type": "code",
      "source": [
        "!/usr/bin/sml"
      ],
      "metadata": {
        "id": "_3_0ABl4k6zx"
      },
      "execution_count": null,
      "outputs": []
    },
    {
      "cell_type": "markdown",
      "source": [
        "**EXERCICIO 5**\n",
        "\n",
        "Implement the recursive function last to retrieve the the **rightmost** element in a tree. If such element does not exist, raise an exception."
      ],
      "metadata": {
        "id": "DoNWlCuAlDup"
      }
    },
    {
      "cell_type": "code",
      "source": [
        "#IMPLEMENT HERE"
      ],
      "metadata": {
        "id": "T5dP2NQ6lVi-"
      },
      "execution_count": null,
      "outputs": []
    },
    {
      "cell_type": "markdown",
      "source": [
        "**HOMEWORK**"
      ],
      "metadata": {
        "id": "CUES-T0ilXzX"
      }
    },
    {
      "cell_type": "markdown",
      "source": [
        "**EXERCISE 1**\n",
        "\n",
        "Rewrite the List implementation to use Node instad of using Cons."
      ],
      "metadata": {
        "id": "1H2kcHw4lbtS"
      }
    },
    {
      "cell_type": "code",
      "source": [
        "#IMPLEMENTATION HERE\n",
        "%%writefile tree.sml\n",
        "\n",
        "datatype list = Empty \n",
        "                   | Node of { value: int, left: list, right: list }\n"
      ],
      "metadata": {
        "id": "jnpRFMuEln2p",
        "colab": {
          "base_uri": "https://localhost:8080/"
        },
        "outputId": "d29f61bd-64a1-494f-8621-7a1ca3a60291"
      },
      "execution_count": 11,
      "outputs": [
        {
          "output_type": "stream",
          "name": "stdout",
          "text": [
            "Overwriting tree.sml\n"
          ]
        }
      ]
    },
    {
      "cell_type": "markdown",
      "source": [
        "**EXERCISE 2**\n",
        "\n",
        "Implement the recursive function list to transform of a tree T to a list L."
      ],
      "metadata": {
        "id": "y7YQePBAlrNJ"
      }
    },
    {
      "cell_type": "code",
      "source": [
        "#IMPLEMENTATION HERE\n",
        "%%writefile tree.sml\n",
        "\n",
        "\n",
        "\n",
        "fun list(t: inttree, x:int): bool =\n",
        "  case t of\n",
        "              Empty => false\n",
        "            | Node {value, left, right} => (value = x) orelse search(left, x)\n",
        "                                                       orelse search(right, x)"
      ],
      "metadata": {
        "id": "5573E2hql_Cs"
      },
      "execution_count": null,
      "outputs": []
    }
  ]
}